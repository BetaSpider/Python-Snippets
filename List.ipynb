{
 "cells": [
  {
   "cell_type": "markdown",
   "id": "2bea4be9",
   "metadata": {},
   "source": [
    "# Accessing all the elements of list"
   ]
  },
  {
   "cell_type": "code",
   "execution_count": 2,
   "id": "9602c1a2",
   "metadata": {},
   "outputs": [
    {
     "name": "stdout",
     "output_type": "stream",
     "text": [
      "45\n",
      "76\n",
      "89\n",
      "123\n"
     ]
    }
   ],
   "source": [
    "runs=[45,76,89,123]\n",
    "for i in runs:\n",
    "    print(i)\n",
    "    \n",
    "    "
   ]
  },
  {
   "cell_type": "markdown",
   "id": "5baefc3a",
   "metadata": {},
   "source": [
    "# Find the length of the list\n"
   ]
  },
  {
   "cell_type": "code",
   "execution_count": 3,
   "id": "1117fcdf",
   "metadata": {},
   "outputs": [
    {
     "name": "stdout",
     "output_type": "stream",
     "text": [
      "4\n"
     ]
    }
   ],
   "source": [
    "runs=[45,76,89,123]\n",
    "print(len(runs))"
   ]
  },
  {
   "cell_type": "markdown",
   "id": "3a0cce70",
   "metadata": {},
   "source": [
    "# changing the element in the list\n"
   ]
  },
  {
   "cell_type": "code",
   "execution_count": 4,
   "id": "476db176",
   "metadata": {},
   "outputs": [
    {
     "name": "stdout",
     "output_type": "stream",
     "text": [
      "before updation\n",
      "89\n",
      "26\n",
      "87\n",
      "89\n",
      "65\n",
      "58\n",
      "after updation\n",
      "89\n",
      "62\n",
      "87\n",
      "89\n",
      "65\n",
      "58\n"
     ]
    }
   ],
   "source": [
    "Marks=[89,26,87,89,65,58]\n",
    "print(\"before updation\")\n",
    "for i in Marks:\n",
    "    print(i)\n",
    "Marks[1]=62\n",
    "print(\"after updation\")\n",
    "for j in Marks:\n",
    "    print(j)"
   ]
  },
  {
   "cell_type": "markdown",
   "id": "0cb5048e",
   "metadata": {},
   "source": [
    "# Append (Adding an element at the end)"
   ]
  },
  {
   "cell_type": "code",
   "execution_count": 6,
   "id": "3c154dfa",
   "metadata": {},
   "outputs": [
    {
     "name": "stdout",
     "output_type": "stream",
     "text": [
      "[650, 420, 879, 652, 792]\n"
     ]
    }
   ],
   "source": [
    "Score=[650,420,879,652]\n",
    "Score.append(792)\n",
    "print(Score)\n"
   ]
  },
  {
   "cell_type": "markdown",
   "id": "8ca19f65",
   "metadata": {},
   "source": [
    "# Extend (Adding multiple elements at the end)"
   ]
  },
  {
   "cell_type": "code",
   "execution_count": 7,
   "id": "50c02e6f",
   "metadata": {},
   "outputs": [
    {
     "name": "stdout",
     "output_type": "stream",
     "text": [
      "[26, 89, 43, 89, 23, 45]\n"
     ]
    }
   ],
   "source": [
    "Marks=[26,89,43]\n",
    "Marks.extend([89,23,45])\n",
    "print(Marks)"
   ]
  },
  {
   "cell_type": "markdown",
   "id": "8328ac35",
   "metadata": {},
   "source": [
    "# insert() function"
   ]
  },
  {
   "cell_type": "code",
   "execution_count": 11,
   "id": "842f3a19",
   "metadata": {},
   "outputs": [
    {
     "name": "stdout",
     "output_type": "stream",
     "text": [
      "The list is\n",
      " ['Jane', 'Joe', 'Browny', 47, 98, 29]\n",
      "List after insert at the 2 position\n",
      "['Jane', 'Joe', 'Richard', 'Browny', 47, 98, 29]\n"
     ]
    }
   ],
   "source": [
    "Name=['Jane','Joe','Browny',47,98,29]\n",
    "print(\"The list is\\n\",Name)\n",
    "Name.insert(2,'Richard')\n",
    "print(\"List after insert at the 2 position\")\n",
    "print(Name)"
   ]
  },
  {
   "cell_type": "markdown",
   "id": "0aa38239",
   "metadata": {},
   "source": [
    "# del() function"
   ]
  },
  {
   "cell_type": "code",
   "execution_count": 15,
   "id": "2a4f808d",
   "metadata": {
    "scrolled": true
   },
   "outputs": [
    {
     "name": "stdout",
     "output_type": "stream",
     "text": [
      "[78, 98, 56, 25, 46, 78]\n",
      "List after deleting the element at the index 3\n",
      " [78, 98, 56, 46, 78]\n"
     ]
    }
   ],
   "source": [
    "Mymarks=[78,98,56,25,46,78]\n",
    "print(Mymarks)\n",
    "del Mymarks[3]\n",
    "print(\"List after deleting the element at the index 3\\n\",Mymarks)\n"
   ]
  },
  {
   "cell_type": "markdown",
   "id": "668d4e4b",
   "metadata": {},
   "source": [
    "# del() function with range"
   ]
  },
  {
   "cell_type": "code",
   "execution_count": 18,
   "id": "0a4dbf7a",
   "metadata": {},
   "outputs": [
    {
     "name": "stdout",
     "output_type": "stream",
     "text": [
      "[78, 98, 56, 25, 46, 78, 85, 63]\n",
      "List after deleting the range of element\n",
      " [78, 98, 56, 78, 85, 63]\n"
     ]
    }
   ],
   "source": [
    "Mymarks=[78,98,56,25,46,78,85,63]\n",
    "print(Mymarks)\n",
    "del Mymarks[3:5]\n",
    "print(\"List after deleting the range of element\\n\",Mymarks)\n"
   ]
  },
  {
   "cell_type": "markdown",
   "id": "03ea5fac",
   "metadata": {},
   "source": [
    "# remove() function"
   ]
  },
  {
   "cell_type": "code",
   "execution_count": 17,
   "id": "5b5c6454",
   "metadata": {},
   "outputs": [
    {
     "name": "stdout",
     "output_type": "stream",
     "text": [
      "['Dhoni', 'Shane watson', 'Raina', 'Kohli']\n",
      "List after removing the unknown index element\n",
      "\n",
      "['Dhoni', 'Raina', 'Kohli']\n"
     ]
    }
   ],
   "source": [
    "Name=['Dhoni','Shane watson','Raina','Kohli']\n",
    "print(Name)\n",
    "Name.remove('Shane watson')\n",
    "print(\"List after removing the unknown index element\\n\")\n",
    "print(Name)"
   ]
  },
  {
   "cell_type": "markdown",
   "id": "51ab2f06",
   "metadata": {},
   "source": [
    "# pop() function\n"
   ]
  },
  {
   "cell_type": "code",
   "execution_count": 20,
   "id": "b56eb0ff",
   "metadata": {},
   "outputs": [
    {
     "name": "stdout",
     "output_type": "stream",
     "text": [
      "Print the food litems before popping\n",
      " ['idly', 'dosa', 'chapathi', 'parotta']\n",
      "After poppig the element\n",
      "['idly', 'dosa', 'chapathi']\n"
     ]
    }
   ],
   "source": [
    "Food=['idly','dosa','chapathi','parotta']\n",
    "print(\"Print the food litems before popping\\n\",Food)\n",
    "Food.pop(3)\n",
    "print(\"After poppig the element\")\n",
    "print(Food)"
   ]
  },
  {
   "cell_type": "markdown",
   "id": "79c62bd6",
   "metadata": {},
   "source": [
    "# clear() function"
   ]
  },
  {
   "cell_type": "code",
   "execution_count": 24,
   "id": "d0ec45a1",
   "metadata": {},
   "outputs": [
    {
     "name": "stdout",
     "output_type": "stream",
     "text": [
      "Print the elements of the list\n",
      "[45, 'David', 89, 45.6]\n",
      "clears the element and retains the list\n",
      "[]\n"
     ]
    }
   ],
   "source": [
    "myList=[45,'David',89,45.6]\n",
    "print(\"Print the elements of the list\")\n",
    "print(myList)\n",
    "print(\"clears the element and retains the list\")\n",
    "myList.clear()\n",
    "print(myList)"
   ]
  },
  {
   "cell_type": "code",
   "execution_count": null,
   "id": "6466e100",
   "metadata": {},
   "outputs": [],
   "source": []
  }
 ],
 "metadata": {
  "kernelspec": {
   "display_name": "Python 3 (ipykernel)",
   "language": "python",
   "name": "python3"
  },
  "language_info": {
   "codemirror_mode": {
    "name": "ipython",
    "version": 3
   },
   "file_extension": ".py",
   "mimetype": "text/x-python",
   "name": "python",
   "nbconvert_exporter": "python",
   "pygments_lexer": "ipython3",
   "version": "3.7.6"
  }
 },
 "nbformat": 4,
 "nbformat_minor": 5
}
