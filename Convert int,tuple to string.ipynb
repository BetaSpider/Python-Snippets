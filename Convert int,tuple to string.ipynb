{
 "cells": [
  {
   "cell_type": "markdown",
   "id": "16dae6d6",
   "metadata": {},
   "source": [
    "# Convert integer to string"
   ]
  },
  {
   "cell_type": "code",
   "execution_count": 2,
   "id": "249d2d72",
   "metadata": {},
   "outputs": [
    {
     "name": "stdout",
     "output_type": "stream",
     "text": [
      "Enter the no:45612\n",
      "The type of the given no is: <class 'int'>\n",
      "The type of after coversion <class 'str'>\n"
     ]
    }
   ],
   "source": [
    "n=int(input(\"Enter the no:\"))\n",
    "print(\"The type of the given no is:\",type(n))\n",
    "cstr=str(n)\n",
    "print(\"The type of after coversion\",type(cstr))"
   ]
  },
  {
   "cell_type": "markdown",
   "id": "4eef91bb",
   "metadata": {},
   "source": [
    "# tuple to string"
   ]
  },
  {
   "cell_type": "code",
   "execution_count": 3,
   "id": "1dace5e8",
   "metadata": {},
   "outputs": [
    {
     "name": "stdout",
     "output_type": "stream",
     "text": [
      "Tuple Elements are: ('B', 'e', 't', 'a', 's', 'p', 'y', 'd', 'e', 'r')\n",
      "The string from the tuple is: Betaspyder\n"
     ]
    }
   ],
   "source": [
    "tup=('B','e','t','a','s','p','y','d','e','r')\n",
    "print(\"Tuple Elements are:\",tup)\n",
    "sttrtup=\"\".join(tup)\n",
    "print(\"The string from the tuple is:\",sttrtup)"
   ]
  }
 ],
 "metadata": {
  "kernelspec": {
   "display_name": "Python 3 (ipykernel)",
   "language": "python",
   "name": "python3"
  },
  "language_info": {
   "codemirror_mode": {
    "name": "ipython",
    "version": 3
   },
   "file_extension": ".py",
   "mimetype": "text/x-python",
   "name": "python",
   "nbconvert_exporter": "python",
   "pygments_lexer": "ipython3",
   "version": "3.7.6"
  }
 },
 "nbformat": 4,
 "nbformat_minor": 5
}
