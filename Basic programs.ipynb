{
 "cells": [
  {
   "cell_type": "markdown",
   "id": "6dc646c6",
   "metadata": {},
   "source": [
    "# Compound interest"
   ]
  },
  {
   "cell_type": "code",
   "execution_count": 3,
   "id": "482a0008",
   "metadata": {},
   "outputs": [
    {
     "name": "stdout",
     "output_type": "stream",
     "text": [
      "enter the principle amount65000\n",
      "enter the no of years6\n",
      "enter the rate of interest4\n",
      "The amount is: 82245.73620224002\n",
      "The compund Interest for the given values is: 17245.73620224002\n"
     ]
    }
   ],
   "source": [
    "p=int(input(\"enter the principle amount\"))\n",
    "n=int(input(\"enter the no of years\"))\n",
    "r=int(input(\"enter the rate of interest\"))\n",
    "A=p*(1+r/100)**n\n",
    "print(\"The amount is:\",A)\n",
    "CI=A-p\n",
    "print(\"The compund Interest for the given values is:\",CI)"
   ]
  },
  {
   "cell_type": "markdown",
   "id": "18d537c3",
   "metadata": {},
   "source": [
    "# Print ASCII values using ord()"
   ]
  },
  {
   "cell_type": "code",
   "execution_count": 4,
   "id": "77efc6c8",
   "metadata": {},
   "outputs": [
    {
     "name": "stdout",
     "output_type": "stream",
     "text": [
      "Enter the character:V\n",
      "The ASCII value for the given character is: 86\n"
     ]
    }
   ],
   "source": [
    "chr=input(\"Enter the character:\")\n",
    "print(\"The ASCII value for the given character is:\",ord(chr))"
   ]
  },
  {
   "cell_type": "markdown",
   "id": "467127bf",
   "metadata": {},
   "source": [
    "# swap the first and last element in the list"
   ]
  },
  {
   "cell_type": "code",
   "execution_count": 4,
   "id": "1e8afbec",
   "metadata": {},
   "outputs": [
    {
     "name": "stdout",
     "output_type": "stream",
     "text": [
      "List before swapping:\n",
      " [75, 23, 56, 78, 65, 98]\n",
      "The list after swapping: [98, 23, 56, 78, 65, 75]\n"
     ]
    }
   ],
   "source": [
    "myList=[75,23,56,78,65,98]\n",
    "print(\"List before swapping:\\n\", myList)\n",
    "def swap(myList):\n",
    "    myList[0],myList[-1]=myList[-1],myList[0]\n",
    "    return myList\n",
    "print(\"The list after swapping:\",swap(myList))"
   ]
  },
  {
   "cell_type": "markdown",
   "id": "32b643eb",
   "metadata": {},
   "source": [
    "# sum of array"
   ]
  },
  {
   "cell_type": "code",
   "execution_count": 1,
   "id": "67abe3b0",
   "metadata": {},
   "outputs": [
    {
     "name": "stdout",
     "output_type": "stream",
     "text": [
      "The sum of array is: 28\n"
     ]
    }
   ],
   "source": [
    "Nos={4,7,8,9}\n",
    "result=sum(Nos)\n",
    "print(\"The sum of array is:\", result)"
   ]
  },
  {
   "cell_type": "code",
   "execution_count": null,
   "id": "f7fd1aa6",
   "metadata": {},
   "outputs": [],
   "source": []
  }
 ],
 "metadata": {
  "kernelspec": {
   "display_name": "Python 3 (ipykernel)",
   "language": "python",
   "name": "python3"
  },
  "language_info": {
   "codemirror_mode": {
    "name": "ipython",
    "version": 3
   },
   "file_extension": ".py",
   "mimetype": "text/x-python",
   "name": "python",
   "nbconvert_exporter": "python",
   "pygments_lexer": "ipython3",
   "version": "3.9.7"
  }
 },
 "nbformat": 4,
 "nbformat_minor": 5
},
{
  "cell_type": "code",
  "execution_count": 4,
  "id": "77efc6c8",
  "metadata": {},
  "outputs": [
   {
    "name": "stdout",
    "output_type": "stream",
    "text": [
     "Enter the ASCII value:86\n",
     "The character for the given ASCII value is: V\n"
    ]
   }
  ],
   "source": [
    "chr=input(\"Enter the character:\")\n",
    "print(\"The character for the given ASCII value is:\",char(n))"
   ]
}
