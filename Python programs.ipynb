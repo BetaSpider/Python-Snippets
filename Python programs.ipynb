{
 "cells": [
  {
   "cell_type": "markdown",
   "id": "705c53be",
   "metadata": {},
   "source": [
    "# print nos from 1 to 20"
   ]
  },
  {
   "cell_type": "code",
   "execution_count": 1,
   "id": "d1434d28",
   "metadata": {},
   "outputs": [
    {
     "name": "stdout",
     "output_type": "stream",
     "text": [
      "1\n",
      "2\n",
      "3\n",
      "4\n",
      "5\n",
      "6\n",
      "7\n",
      "8\n",
      "9\n",
      "10\n",
      "11\n",
      "12\n",
      "13\n",
      "14\n",
      "15\n",
      "16\n",
      "17\n",
      "18\n",
      "19\n",
      "20\n"
     ]
    }
   ],
   "source": [
    "for i in range (1,21):\n",
    "    print(i)"
   ]
  },
  {
   "cell_type": "markdown",
   "id": "6c5b0c3f",
   "metadata": {},
   "source": [
    "# Generate the odd nos between 1 and 20"
   ]
  },
  {
   "cell_type": "code",
   "execution_count": 3,
   "id": "407eb083",
   "metadata": {},
   "outputs": [
    {
     "name": "stdout",
     "output_type": "stream",
     "text": [
      "1\n",
      "3\n",
      "5\n",
      "7\n",
      "9\n",
      "11\n",
      "13\n",
      "15\n",
      "17\n",
      "19\n"
     ]
    }
   ],
   "source": [
    "for i in range(1,21,2):\n",
    "    print(i)\n"
   ]
  },
  {
   "cell_type": "markdown",
   "id": "aa47624c",
   "metadata": {},
   "source": [
    "# create a list using list() function "
   ]
  },
  {
   "cell_type": "code",
   "execution_count": 8,
   "id": "8ea0b459",
   "metadata": {},
   "outputs": [
    {
     "name": "stdout",
     "output_type": "stream",
     "text": [
      "[2, 4, 6, 8, 10, 12, 14, 16, 18]\n"
     ]
    }
   ],
   "source": [
    "Nos=list(range(2,20,2))\n",
    "print(Nos)"
   ]
  },
  {
   "cell_type": "markdown",
   "id": "cd7b2c08",
   "metadata": {},
   "source": [
    "# convert Decimal to Binary,Octal and Hexadecimal"
   ]
  },
  {
   "cell_type": "code",
   "execution_count": 1,
   "id": "2d0f6d26",
   "metadata": {},
   "outputs": [
    {
     "name": "stdout",
     "output_type": "stream",
     "text": [
      "Enter the Decimal no:65\n",
      "The equivalent binary is: 0b1000001\n",
      "The equivalent octal is: 0o101\n",
      "The equivalent Hexadecimal is: 0x41\n"
     ]
    }
   ],
   "source": [
    "dec=int(input(\"Enter the Decimal no:\"))\n",
    "print(\"The equivalent binary is:\",bin(dec))\n",
    "print(\"The equivalent octal is:\",oct(dec))\n",
    "print(\"The equivalent Hexadecimal is:\",hex(dec))"
   ]
  },
  {
   "cell_type": "code",
   "execution_count": null,
   "id": "1cbc55a3",
   "metadata": {},
   "outputs": [],
   "source": []
  }
 ],
 "metadata": {
  "kernelspec": {
   "display_name": "Python 3 (ipykernel)",
   "language": "python",
   "name": "python3"
  },
  "language_info": {
   "codemirror_mode": {
    "name": "ipython",
    "version": 3
   },
   "file_extension": ".py",
   "mimetype": "text/x-python",
   "name": "python",
   "nbconvert_exporter": "python",
   "pygments_lexer": "ipython3",
   "version": "3.9.7"
  }
 },
 "nbformat": 4,
 "nbformat_minor": 5
}
